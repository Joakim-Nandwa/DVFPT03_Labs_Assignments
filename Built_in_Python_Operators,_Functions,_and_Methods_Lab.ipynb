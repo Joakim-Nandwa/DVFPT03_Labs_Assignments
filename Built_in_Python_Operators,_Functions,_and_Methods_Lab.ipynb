{
  "cells": [
    {
      "cell_type": "markdown",
      "metadata": {
        "id": "view-in-github",
        "colab_type": "text"
      },
      "source": [
        "<a href=\"https://colab.research.google.com/github/Joakim-Nandwa/DVFPT03_Labs_Assignments/blob/main/Built_in_Python_Operators%2C_Functions%2C_and_Methods_Lab.ipynb\" target=\"_parent\"><img src=\"https://colab.research.google.com/assets/colab-badge.svg\" alt=\"Open In Colab\"/></a>"
      ]
    },
    {
      "cell_type": "markdown",
      "metadata": {
        "id": "VsI07mrvN3M8"
      },
      "source": [
        "# Built-in Python Operators, Functions, and Methods - Lab\n",
        "\n",
        "## Introduction\n",
        "We've looked at some of the built-in methods, functions, and the operators in Python. These are all very powerful tools we can (and will) use in our code. Below, we'll put these new tools to use to solve the tests in this lab.\n",
        "\n",
        "## Objectives\n",
        "\n",
        "In this lab you will:\n",
        "\n",
        "* Use built-in Python functions and methods\n",
        "* Use comparison operators to compare objects\n",
        "* Use logical operators to incorporate multiple conditions\n",
        "* Use identity operators to confirm the identity of an object\n",
        "\n",
        "\n",
        "## Instructions\n",
        "\n",
        "Let's start by using some built-in functions and methods. Employ the appropriate functions and methods to get the intended result."
      ]
    },
    {
      "cell_type": "code",
      "execution_count": 1,
      "metadata": {
        "colab": {
          "base_uri": "https://localhost:8080/",
          "height": 36
        },
        "id": "9qWG7w57N3NB",
        "outputId": "32ef44c2-7c86-4cfc-c55e-4a68af39e481"
      },
      "outputs": [
        {
          "output_type": "execute_result",
          "data": {
            "text/plain": [
              "'HELLO, THERE'"
            ],
            "application/vnd.google.colaboratory.intrinsic+json": {
              "type": "string"
            }
          },
          "metadata": {},
          "execution_count": 1
        }
      ],
      "source": [
        "# Desired output: \"HELLO, THERE\"\n",
        "yell_hello = \"hello, there\".upper()\n",
        "yell_hello"
      ]
    },
    {
      "cell_type": "code",
      "execution_count": 2,
      "metadata": {
        "colab": {
          "base_uri": "https://localhost:8080/",
          "height": 36
        },
        "id": "W8Jx1fRFN3ND",
        "outputId": "f74c07f8-254f-4b59-8336-cb7b60d0dab6"
      },
      "outputs": [
        {
          "output_type": "execute_result",
          "data": {
            "text/plain": [
              "'psst, hey'"
            ],
            "application/vnd.google.colaboratory.intrinsic+json": {
              "type": "string"
            }
          },
          "metadata": {},
          "execution_count": 2
        }
      ],
      "source": [
        "# Desired output: \"psst, hey\"\n",
        "whisper_hey = \"PSST, HEY\".lower()\n",
        "whisper_hey"
      ]
    },
    {
      "cell_type": "code",
      "execution_count": 3,
      "metadata": {
        "colab": {
          "base_uri": "https://localhost:8080/",
          "height": 36
        },
        "id": "WJIwZhwZN3NE",
        "outputId": "3326f03e-73ab-4f6d-e67c-14bcecf929d0"
      },
      "outputs": [
        {
          "output_type": "execute_result",
          "data": {
            "text/plain": [
              "'Learn. Love. Code.'"
            ],
            "application/vnd.google.colaboratory.intrinsic+json": {
              "type": "string"
            }
          },
          "metadata": {},
          "execution_count": 3
        }
      ],
      "source": [
        "# Desired output: \"Learn. Love. Code\"\n",
        "flatiron_mantra = \"LEARN. LOVE. CODE.\".title()\n",
        "flatiron_mantra"
      ]
    },
    {
      "cell_type": "code",
      "execution_count": 4,
      "metadata": {
        "colab": {
          "base_uri": "https://localhost:8080/"
        },
        "id": "wAoOZfOTN3NF",
        "outputId": "c9545ef8-7082-44c8-c219-a83d70f8cca1"
      },
      "outputs": [
        {
          "output_type": "execute_result",
          "data": {
            "text/plain": [
              "str"
            ]
          },
          "metadata": {},
          "execution_count": 4
        }
      ],
      "source": [
        "# Desired output: str\n",
        "type_string = type(\"i'm a string\")\n",
        "type_string"
      ]
    },
    {
      "cell_type": "code",
      "execution_count": 5,
      "metadata": {
        "colab": {
          "base_uri": "https://localhost:8080/"
        },
        "id": "0jVNPLbTN3NF",
        "outputId": "4aa48f68-d823-4375-ca4f-bdfbbdf4ec8a"
      },
      "outputs": [
        {
          "output_type": "execute_result",
          "data": {
            "text/plain": [
              "list"
            ]
          },
          "metadata": {},
          "execution_count": 5
        }
      ],
      "source": [
        "# Desired output: list\n",
        "type_list = type([\"i'm\", \"a\", \"list\"])\n",
        "type_list"
      ]
    },
    {
      "cell_type": "code",
      "execution_count": 6,
      "metadata": {
        "colab": {
          "base_uri": "https://localhost:8080/"
        },
        "id": "vzxmA3WIN3NG",
        "outputId": "d77a334f-102f-4cee-a487-33ed44e9692b"
      },
      "outputs": [
        {
          "output_type": "execute_result",
          "data": {
            "text/plain": [
              "3"
            ]
          },
          "metadata": {},
          "execution_count": 6
        }
      ],
      "source": [
        "# Desired output: 3\n",
        "length_of_list = len([\"i'm\", \"a\", \"list\"])\n",
        "length_of_list"
      ]
    },
    {
      "cell_type": "code",
      "execution_count": 7,
      "metadata": {
        "colab": {
          "base_uri": "https://localhost:8080/",
          "height": 36
        },
        "id": "Sxr4_GgDN3NG",
        "outputId": "fff28948-9d68-43f2-f701-348a1d6fc47f"
      },
      "outputs": [
        {
          "output_type": "execute_result",
          "data": {
            "text/plain": [
              "'list'"
            ],
            "application/vnd.google.colaboratory.intrinsic+json": {
              "type": "string"
            }
          },
          "metadata": {},
          "execution_count": 7
        }
      ],
      "source": [
        "# Desired output: \"list\"\n",
        "longest_word_in_list = max([\"i'm\", \"a\", \"list\"], key=len)\n",
        "longest_word_in_list"
      ]
    },
    {
      "cell_type": "code",
      "execution_count": 8,
      "metadata": {
        "colab": {
          "base_uri": "https://localhost:8080/"
        },
        "id": "7fEBF4lBN3NI",
        "outputId": "131a84a0-34d1-4202-8d4a-1b1793cc650a"
      },
      "outputs": [
        {
          "output_type": "execute_result",
          "data": {
            "text/plain": [
              "1"
            ]
          },
          "metadata": {},
          "execution_count": 8
        }
      ],
      "source": [
        "# Desired output: 1\n",
        "smallest_number = min([1, 3, 4, 78])\n",
        "smallest_number"
      ]
    },
    {
      "cell_type": "code",
      "execution_count": 9,
      "metadata": {
        "colab": {
          "base_uri": "https://localhost:8080/"
        },
        "id": "i9oWEZX3N3NJ",
        "outputId": "277e3635-59d1-421b-fa0a-15e9f3bc35a1"
      },
      "outputs": [
        {
          "output_type": "execute_result",
          "data": {
            "text/plain": [
              "11"
            ]
          },
          "metadata": {},
          "execution_count": 9
        }
      ],
      "source": [
        "# Desired output: 11\n",
        "sum_of_numbers = sum([1, 2, 3, 5])\n",
        "sum_of_numbers"
      ]
    },
    {
      "cell_type": "markdown",
      "metadata": {
        "id": "4v38MnIWN3NJ"
      },
      "source": [
        "Uncomment the code in each cell as you start working on them. For example, when you begin working on the first cell, remove `#` at the start of each line.  \n",
        "\n",
        "> **Note:** The `cmd+?` keyboard shortcut comments or uncomments a given line of code!\n",
        "\n",
        "Replace `[COMPARISON]`, with the correct comparison operator to get the desired output, which you will find as a comment at the end of each line. See the example below.\n",
        "\n",
        "```python\n",
        "# boolean_compare = False [COMPARISON] True # True\n",
        "=> boolean_compare = False != True # True\n",
        "OR\n",
        "=> boolean_compare = False != True\n",
        "```\n",
        "\n",
        "Once uncommented, you can check the output to see if your comparisons match the answers provided in the ending comments."
      ]
    },
    {
      "cell_type": "markdown",
      "metadata": {
        "id": "mCnjGaXgN3NK"
      },
      "source": [
        "> **Remember** the comparison operators are: `==`, `!=`, `<`, `>`, `<=`, `>=`"
      ]
    },
    {
      "cell_type": "code",
      "execution_count": 10,
      "metadata": {
        "colab": {
          "base_uri": "https://localhost:8080/"
        },
        "id": "sOzjZ0rhN3NK",
        "outputId": "2e0de12c-9e5b-460d-9c38-6827d749c0ab"
      },
      "outputs": [
        {
          "output_type": "stream",
          "name": "stdout",
          "text": [
            "False False\n"
          ]
        }
      ],
      "source": [
        "boolean_compare = True != True # False\n",
        "boolean_compare2 = False == True # False\n",
        "print(boolean_compare, boolean_compare2)"
      ]
    },
    {
      "cell_type": "code",
      "execution_count": 11,
      "metadata": {
        "colab": {
          "base_uri": "https://localhost:8080/"
        },
        "id": "mdNkuAeIN3NL",
        "outputId": "464f5aaa-597d-4056-d474-ec8270317ffe"
      },
      "outputs": [
        {
          "output_type": "stream",
          "name": "stdout",
          "text": [
            "True True False\n"
          ]
        }
      ],
      "source": [
        "number_compare = 10 == 10 # True\n",
        "number_compare2 = -20 <= 30 # True\n",
        "number_compare3 = 4 > 5 # False\n",
        "print(number_compare, number_compare2, number_compare3)"
      ]
    },
    {
      "cell_type": "code",
      "execution_count": 12,
      "metadata": {
        "colab": {
          "base_uri": "https://localhost:8080/"
        },
        "id": "oN4-_x7tN3NL",
        "outputId": "5ec0374a-c798-45d7-89e6-2a6cb4e81af6"
      },
      "outputs": [
        {
          "output_type": "stream",
          "name": "stdout",
          "text": [
            "True False True\n"
          ]
        }
      ],
      "source": [
        "string_compare = \"stacy\" > \"STACY\" # True\n",
        "string_compare2 = \"hey i love python!\" == \"hi love python\" # False\n",
        "string_compare3 = \"this string is bigger than the other\" > \"that is true\" # True\n",
        "print(string_compare, string_compare2, string_compare3)"
      ]
    },
    {
      "cell_type": "markdown",
      "metadata": {
        "id": "mkTw2Hy4N3NM"
      },
      "source": [
        "In the next section, do not use either `==` or `!=` operators"
      ]
    },
    {
      "cell_type": "code",
      "execution_count": 13,
      "metadata": {
        "colab": {
          "base_uri": "https://localhost:8080/"
        },
        "id": "OI20j334N3NM",
        "outputId": "551b5c1c-799f-4897-ba81-45f574e5742f"
      },
      "outputs": [
        {
          "output_type": "stream",
          "name": "stdout",
          "text": [
            "True True False True False\n"
          ]
        }
      ],
      "source": [
        "list_compare = [0, 0, 0, 0] != [0, 0, 0] # True\n",
        "list_compare2 = [1, 0, 0] > [0, 0, 0] # True\n",
        "list_compare3 = [0, 0, 0] > [0, 0, 3] # False\n",
        "list_compare4 = [0, 0, 3, 0] > [0, 0, 3] # True\n",
        "list_compare5 = [0, 0, 4, 0] < [0, 0, 3] # False\n",
        "print(list_compare, list_compare2, list_compare3, list_compare4, list_compare5)"
      ]
    },
    {
      "cell_type": "markdown",
      "metadata": {
        "id": "sVw9JECEN3NM"
      },
      "source": [
        "### Practicing Identity and Logical Operators"
      ]
    },
    {
      "cell_type": "markdown",
      "metadata": {
        "id": "y0kBqCqzN3NM"
      },
      "source": [
        "In this next section, use the identity and logical operators to get the desired output as you did in the examples above using the comparison operators."
      ]
    },
    {
      "cell_type": "markdown",
      "metadata": {
        "id": "_DoN-eoAN3NN"
      },
      "source": [
        "> **Remember** the **logical operators** are `and`, `or`, & `not`; and the **identity operators** are `is` & `is not`"
      ]
    },
    {
      "cell_type": "markdown",
      "metadata": {
        "id": "xbDEzOxoN3NN"
      },
      "source": [
        "Use logical operators for this section"
      ]
    },
    {
      "cell_type": "code",
      "execution_count": 14,
      "metadata": {
        "colab": {
          "base_uri": "https://localhost:8080/"
        },
        "id": "BV_zhBVsN3NN",
        "outputId": "aa20c223-c7f8-4976-828f-eb69b7c0072a"
      },
      "outputs": [
        {
          "output_type": "stream",
          "name": "stdout",
          "text": [
            "[] True 0 2 2 False False\n"
          ]
        }
      ],
      "source": [
        "logical_compare = 2 and [] # []\n",
        "logical_compare2 = not [] # True\n",
        "logical_compare3 = 0 and [] # 0\n",
        "logical_compare4 = True and 2 # 2\n",
        "logical_compare5 = 2 or 3 # 2\n",
        "logical_compare6 = not True # False\n",
        "logical_compare7 = False and 2 # False\n",
        "print(logical_compare, logical_compare2, logical_compare3, logical_compare4,\n",
        "      logical_compare5, logical_compare6, logical_compare7)"
      ]
    },
    {
      "cell_type": "markdown",
      "metadata": {
        "id": "k2QffkVEN3NN"
      },
      "source": [
        "Use identity operators for this section"
      ]
    },
    {
      "cell_type": "code",
      "execution_count": 15,
      "metadata": {
        "colab": {
          "base_uri": "https://localhost:8080/"
        },
        "id": "wYc9-2jYN3NN",
        "outputId": "9f21ddb3-1225-4690-eebf-93f344273f26"
      },
      "outputs": [
        {
          "output_type": "stream",
          "name": "stdout",
          "text": [
            "False True True True False False\n"
          ]
        },
        {
          "output_type": "stream",
          "name": "stderr",
          "text": [
            "<>:6: SyntaxWarning: \"is not\" with a literal. Did you mean \"!=\"?\n",
            "<>:7: SyntaxWarning: \"is not\" with a literal. Did you mean \"!=\"?\n",
            "<>:6: SyntaxWarning: \"is not\" with a literal. Did you mean \"!=\"?\n",
            "<>:7: SyntaxWarning: \"is not\" with a literal. Did you mean \"!=\"?\n",
            "<ipython-input-15-50e2c528522d>:6: SyntaxWarning: \"is not\" with a literal. Did you mean \"!=\"?\n",
            "  identity_compare4 = 9 is not 10 # True\n",
            "<ipython-input-15-50e2c528522d>:7: SyntaxWarning: \"is not\" with a literal. Did you mean \"!=\"?\n",
            "  identity_compare5 = \"Same\" is not \"Same\" # False\n"
          ]
        }
      ],
      "source": [
        "a = []\n",
        "b = a\n",
        "identity_compare = {} is {} # False\n",
        "identity_compare2 = a is b # True\n",
        "identity_compare3 = b is not [] # True\n",
        "identity_compare4 = 9 is not 10 # True\n",
        "identity_compare5 = \"Same\" is not \"Same\" # False\n",
        "identity_compare6 = [1,3,4] is [1,2,3] # False\n",
        "print(identity_compare, identity_compare2, identity_compare3, identity_compare4, identity_compare5, identity_compare6)"
      ]
    },
    {
      "cell_type": "markdown",
      "metadata": {
        "id": "d91MIP9pN3NO"
      },
      "source": [
        "## Summary\n",
        "Great work! After all that, there's nothing we can't compare. Well, I guess apples and oranges might still be off the table. We practiced using comparison, logical, and identity operators in Python to compare elements of the same and different datatypes and/or values. Going forward, there will be plenty of instances where we will need to compare elements. So, it is important to have a good understanding of how each of these operators works. Don't worry, as with all concepts in programming, the more we work with something the better we understand it."
      ]
    }
  ],
  "metadata": {
    "kernelspec": {
      "display_name": "Python (learn-env)",
      "language": "python",
      "name": "learn-env"
    },
    "language_info": {
      "codemirror_mode": {
        "name": "ipython",
        "version": 3
      },
      "file_extension": ".py",
      "mimetype": "text/x-python",
      "name": "python",
      "nbconvert_exporter": "python",
      "pygments_lexer": "ipython3",
      "version": "3.8.5"
    },
    "toc": {
      "base_numbering": 1,
      "nav_menu": {},
      "number_sections": true,
      "sideBar": true,
      "skip_h1_title": false,
      "title_cell": "Table of Contents",
      "title_sidebar": "Contents",
      "toc_cell": false,
      "toc_position": {},
      "toc_section_display": true,
      "toc_window_display": false
    },
    "colab": {
      "provenance": [],
      "include_colab_link": true
    }
  },
  "nbformat": 4,
  "nbformat_minor": 0
}