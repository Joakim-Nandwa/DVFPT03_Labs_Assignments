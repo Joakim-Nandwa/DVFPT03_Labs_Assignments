{
  "cells": [
    {
      "cell_type": "markdown",
      "metadata": {
        "id": "view-in-github",
        "colab_type": "text"
      },
      "source": [
        "<a href=\"https://colab.research.google.com/github/Joakim-Nandwa/DVFPT03_Labs_Assignments/blob/main/Python_Loops_and_Functions_Cumulative_Lab.ipynb\" target=\"_parent\"><img src=\"https://colab.research.google.com/assets/colab-badge.svg\" alt=\"Open In Colab\"/></a>"
      ]
    },
    {
      "cell_type": "markdown",
      "metadata": {
        "id": "snRK8enGO67d"
      },
      "source": [
        "# Python Loops and Functions - Cumulative Lab\n",
        "\n",
        "## Introduction\n",
        "\n",
        "You made it through another section — excellent work! This cumulative lab will return to the Amazon product review dataset and allow you to flex your new skills.\n",
        "\n",
        "## Objectives\n",
        "\n",
        "You will be able to:\n",
        "\n",
        " - Recall what you learned in the previous section\n",
        " - Practice writing loops to pull multiple pieces of data from a dataset\n",
        " - Practice writing functions for organization and avoiding repetition\n",
        "\n",
        "## Your Task: Dynamically Query Amazon Review Data\n",
        "\n",
        "Once again, we are going to be working with data collected by Computer Science researchers at the University of California, San Diego. Their full paper citation is here:\n",
        "> **Justifying recommendations using distantly-labeled reviews and fined-grained aspects**\n",
        "Jianmo Ni, Jiacheng Li, Julian McAuley\n",
        "Empirical Methods in Natural Language Processing (EMNLP), 2019\n",
        "[pdf](http://cseweb.ucsd.edu/~jmcauley/pdfs/emnlp19a.pdf)\n",
        "\n",
        "We are still using a cleaned-up, coffee-specific, sample version of their [full dataset](https://nijianmo.github.io/amazon/index.html).\n",
        "\n",
        "![pouring coffee](https://curriculum-content.s3.amazonaws.com/data-science/images/coffee.jpg)\n",
        "<span>Photo by <a href=\"https://unsplash.com/@dumdidu?utm_source=unsplash&amp;utm_medium=referral&amp;utm_content=creditCopyText\">Philipp Cordts</a> on <a href=\"https://unsplash.com/s/photos/coffee-pot?utm_source=unsplash&amp;utm_medium=referral&amp;utm_content=creditCopyText\">Unsplash</a></span>\n",
        "\n",
        "In some cases, we will write the function signature for you, e.g.\n",
        "\n",
        "```python\n",
        "def review_sentiment(review):\n",
        "    # Replace None with appropriate code\n",
        "    None\n",
        "```\n",
        "\n",
        "Then you just need to fill in the relevant logic.\n",
        "\n",
        "In other cases, you will need to write the function signature yourself, e.g.\n",
        "\n",
        "```python\n",
        "# Your code here\n",
        "```\n",
        "\n",
        "### Requirements\n",
        "\n",
        "#### 1. Data Summary\n",
        "While reusing some code from the previous cumulative lab, write code to loop over all of the records in the dataset to summarize its contents, specifically in terms of overall review sentiment and the years when the reviews were written.\n",
        "\n",
        "#### 2. Subset Sample\n",
        "Provide a sample of records that meet particular criteria.\n",
        "\n",
        "#### 3. Individual Review Summary\n",
        "Refactor the code from the previous cumulative lab so that it is contained in a function and prompts the user to select which review to summarize.\n",
        "\n",
        "## Data Summary\n",
        "\n",
        "Once again, we've opened up the dataset and loaded it into a list of dictionaries called `reviews`."
      ]
    },
    {
      "cell_type": "code",
      "execution_count": 1,
      "metadata": {
        "colab": {
          "base_uri": "https://localhost:8080/"
        },
        "id": "-3n6jCaxO67p",
        "outputId": "814ab8eb-21b6-4f02-b2bb-b874a4365696"
      },
      "outputs": [
        {
          "output_type": "execute_result",
          "data": {
            "text/plain": [
              "list"
            ]
          },
          "metadata": {},
          "execution_count": 1
        }
      ],
      "source": [
        "import json\n",
        "with open(\"coffee_product_reviews.json\") as f:\n",
        "    reviews = json.load(f)\n",
        "type(reviews)"
      ]
    },
    {
      "cell_type": "markdown",
      "metadata": {
        "id": "-c5IvpnaO67q"
      },
      "source": [
        "Previously, we found the length of the collection, and looked into the data types of each record's keys and values"
      ]
    },
    {
      "cell_type": "code",
      "execution_count": 2,
      "metadata": {
        "colab": {
          "base_uri": "https://localhost:8080/"
        },
        "id": "i-4J3fVmO67q",
        "outputId": "859b593a-850f-41f9-f1c6-807a3e1e99ec"
      },
      "outputs": [
        {
          "output_type": "stream",
          "name": "stdout",
          "text": [
            "The coffee product review dataset contains 86 reviews\n"
          ]
        },
        {
          "output_type": "execute_result",
          "data": {
            "text/plain": [
              "{'rating': 5.0,\n",
              " 'reviewer_name': 'Sns073194',\n",
              " 'product_id': 'B00004RFRV',\n",
              " 'review_title': 'Perfect cafsito every time',\n",
              " 'review_time': '03 11, 2018',\n",
              " 'images': ['https://images-na.ssl-images-amazon.com/images/I/71d2cQEgJsL._SY88.jpg'],\n",
              " 'styles': {'Size:': ' 6-Cup', 'Color:': ' Silver'}}"
            ]
          },
          "metadata": {},
          "execution_count": 2
        }
      ],
      "source": [
        "num_reviews = len(reviews)\n",
        "print(\"The coffee product review dataset contains {} reviews\".format(num_reviews))\n",
        "\n",
        "first_review = reviews[0]\n",
        "first_review"
      ]
    },
    {
      "cell_type": "code",
      "execution_count": 3,
      "metadata": {
        "colab": {
          "base_uri": "https://localhost:8080/"
        },
        "id": "0B8brFHgO67r",
        "outputId": "eb116d5a-eb6f-4b1a-9729-ddbdfd4f21ef"
      },
      "outputs": [
        {
          "output_type": "execute_result",
          "data": {
            "text/plain": [
              "dict_keys(['rating', 'reviewer_name', 'product_id', 'review_title', 'review_time', 'images', 'styles'])"
            ]
          },
          "metadata": {},
          "execution_count": 3
        }
      ],
      "source": [
        "first_review.keys()"
      ]
    },
    {
      "cell_type": "code",
      "execution_count": 4,
      "metadata": {
        "colab": {
          "base_uri": "https://localhost:8080/"
        },
        "id": "YCCIIwvbO67r",
        "outputId": "d5b9b530-6739-440e-d95e-6a8f6266a1ae"
      },
      "outputs": [
        {
          "output_type": "execute_result",
          "data": {
            "text/plain": [
              "dict_values([5.0, 'Sns073194', 'B00004RFRV', 'Perfect cafsito every time', '03 11, 2018', ['https://images-na.ssl-images-amazon.com/images/I/71d2cQEgJsL._SY88.jpg'], {'Size:': ' 6-Cup', 'Color:': ' Silver'}])"
            ]
          },
          "metadata": {},
          "execution_count": 4
        }
      ],
      "source": [
        "first_review.values()"
      ]
    },
    {
      "cell_type": "markdown",
      "metadata": {
        "id": "Vj2GHDQ4O67r"
      },
      "source": [
        "This time, let's do something a bit more sophisticated. Specifically:\n",
        "\n",
        "1. Count of positive, negative, and neutral reviews\n",
        "2. List of years contained in the dataset\n",
        "\n",
        "### Count of Positive, Negative, and Neutral Reviews\n",
        "\n",
        "Previously, we wrote something like this code to determine whether a specific review was positive, negative, or neutral:"
      ]
    },
    {
      "cell_type": "code",
      "execution_count": 5,
      "metadata": {
        "colab": {
          "base_uri": "https://localhost:8080/"
        },
        "id": "ALcybzUNO67r",
        "outputId": "75f84ab5-bb9f-4b2b-8f93-be960b164aaa"
      },
      "outputs": [
        {
          "output_type": "stream",
          "name": "stdout",
          "text": [
            "This is a positive review\n"
          ]
        }
      ],
      "source": [
        "selected_review = reviews[2]\n",
        "selected_rating = selected_review[\"rating\"]\n",
        "\n",
        "if selected_rating >= 4:\n",
        "    print(\"This is a positive review\")\n",
        "elif selected_rating <= 2:\n",
        "    print(\"This is a negative review\")\n",
        "else:\n",
        "    print(\"This is a neutral review\")"
      ]
    },
    {
      "cell_type": "markdown",
      "metadata": {
        "id": "6XMfZ318O67s"
      },
      "source": [
        "Now, rewrite that code as a function `review_sentiment`, which takes in a review dictionary as an argument, and returns the string `\"positive\"`, `\"negative\"`, or `\"neutral\"`"
      ]
    },
    {
      "cell_type": "code",
      "execution_count": 6,
      "metadata": {
        "id": "sXfIzqsRO67s"
      },
      "outputs": [],
      "source": [
        "def review_sentiment(review):\n",
        "    rating = review[\"rating\"]\n",
        "\n",
        "    if rating >= 4:\n",
        "        return \"positive\"\n",
        "    elif rating <= 2:\n",
        "        return \"negative\"\n",
        "    else:\n",
        "        return \"neutral\""
      ]
    },
    {
      "cell_type": "code",
      "execution_count": 7,
      "metadata": {
        "colab": {
          "base_uri": "https://localhost:8080/",
          "height": 36
        },
        "id": "ilBJWF_QO67s",
        "outputId": "025d6525-14bd-4eb0-f247-bbd65663c85c"
      },
      "outputs": [
        {
          "output_type": "execute_result",
          "data": {
            "text/plain": [
              "'positive'"
            ],
            "application/vnd.google.colaboratory.intrinsic+json": {
              "type": "string"
            }
          },
          "metadata": {},
          "execution_count": 7
        }
      ],
      "source": [
        "review_sentiment(reviews[2])"
      ]
    },
    {
      "cell_type": "code",
      "execution_count": 8,
      "metadata": {
        "colab": {
          "base_uri": "https://localhost:8080/",
          "height": 36
        },
        "id": "RbjYk9HgO67s",
        "outputId": "a75f06b1-4e57-41b3-a1b2-63c2e91d99d5"
      },
      "outputs": [
        {
          "output_type": "execute_result",
          "data": {
            "text/plain": [
              "'negative'"
            ],
            "application/vnd.google.colaboratory.intrinsic+json": {
              "type": "string"
            }
          },
          "metadata": {},
          "execution_count": 8
        }
      ],
      "source": [
        "review_sentiment(reviews[4])"
      ]
    },
    {
      "cell_type": "code",
      "execution_count": 9,
      "metadata": {
        "colab": {
          "base_uri": "https://localhost:8080/",
          "height": 36
        },
        "id": "ojvV6tiLO67t",
        "outputId": "70ffad09-b5aa-4a3c-a928-e87f1d70b43a"
      },
      "outputs": [
        {
          "output_type": "execute_result",
          "data": {
            "text/plain": [
              "'neutral'"
            ],
            "application/vnd.google.colaboratory.intrinsic+json": {
              "type": "string"
            }
          },
          "metadata": {},
          "execution_count": 9
        }
      ],
      "source": [
        "review_sentiment(reviews[47])"
      ]
    },
    {
      "cell_type": "markdown",
      "metadata": {
        "id": "zFzGpJBOO67t"
      },
      "source": [
        "Ok, this is already much cleaner than copying and pasting that `if`/`elif`/`else` sequence like we did before!\n",
        "\n",
        "Now, write a function to loop over all of the reviews in the list, and count how many are positive, negative, and neutral.\n",
        "\n",
        "The function should be called `get_sentiment_counts`, take one argument (the list of reviews), and return a dictionary containing the counts. A counter dictionary has been initialized for you with `\"positive\"`, `\"negative\"`, and `\"neutral\"` as the keys and values starting at 0."
      ]
    },
    {
      "cell_type": "code",
      "execution_count": 10,
      "metadata": {
        "scrolled": true,
        "colab": {
          "base_uri": "https://localhost:8080/"
        },
        "id": "FRPHrSKkO67t",
        "outputId": "b3be79db-5cc5-4e7e-c5a3-1f0358f8a2ed"
      },
      "outputs": [
        {
          "output_type": "execute_result",
          "data": {
            "text/plain": [
              "{'positive': 67, 'negative': 15, 'neutral': 4}"
            ]
          },
          "metadata": {},
          "execution_count": 10
        }
      ],
      "source": [
        "def get_sentiment_counts(review_list):\n",
        "\n",
        "    sentiment_counts = {\n",
        "        \"positive\": 0,\n",
        "        \"negative\": 0,\n",
        "        \"neutral\": 0\n",
        "    }\n",
        "\n",
        "    for review in review_list:\n",
        "        sentiment = review_sentiment(review)\n",
        "        sentiment_counts[sentiment] += 1\n",
        "\n",
        "    return sentiment_counts\n",
        "\n",
        "get_sentiment_counts(reviews)"
      ]
    },
    {
      "cell_type": "markdown",
      "metadata": {
        "id": "tOb1IcwQO67t"
      },
      "source": [
        "This spread of sentiments seems reasonable. There is a well-known [skew towards positive reviews in general](https://dspace.mit.edu/handle/1721.1/111093), similar to \"grade inflation\", and people with neutral opinions are less likely to write reviews in the first place.\n",
        "\n",
        "### List of Years Contained in the Dataset\n",
        "\n",
        "Previously, we wrote something like this code to extract the year of a review from the review dictionary:"
      ]
    },
    {
      "cell_type": "code",
      "execution_count": 11,
      "metadata": {
        "colab": {
          "base_uri": "https://localhost:8080/"
        },
        "id": "hec5FB6sO67t",
        "outputId": "8e0f7f65-f0a5-42c1-c9cd-a5428c497dea"
      },
      "outputs": [
        {
          "output_type": "execute_result",
          "data": {
            "text/plain": [
              "2017"
            ]
          },
          "metadata": {},
          "execution_count": 11
        }
      ],
      "source": [
        "selected_review = reviews[2]\n",
        "selected_review_time = selected_review[\"review_time\"]\n",
        "selected_review_year = int(selected_review_time[-4:])\n",
        "selected_review_year"
      ]
    },
    {
      "cell_type": "markdown",
      "metadata": {
        "id": "TtEF_4HqO67u"
      },
      "source": [
        "Now, rewrite that code as a function `review_year`, which takes in a review dictionary as an argument, and returns the year as an integer:"
      ]
    },
    {
      "cell_type": "code",
      "execution_count": 12,
      "metadata": {
        "id": "PTUWkBd_O67u"
      },
      "outputs": [],
      "source": [
        "def review_year(review):\n",
        "    review_time = review[\"review_time\"]\n",
        "    return int(review_time[-4:])"
      ]
    },
    {
      "cell_type": "code",
      "execution_count": 13,
      "metadata": {
        "colab": {
          "base_uri": "https://localhost:8080/"
        },
        "id": "w2f7Dk1VO67u",
        "outputId": "a705ab7c-2848-4a5e-8d19-5c444e05133a"
      },
      "outputs": [
        {
          "output_type": "execute_result",
          "data": {
            "text/plain": [
              "2017"
            ]
          },
          "metadata": {},
          "execution_count": 13
        }
      ],
      "source": [
        "review_year(reviews[2])"
      ]
    },
    {
      "cell_type": "code",
      "execution_count": 14,
      "metadata": {
        "colab": {
          "base_uri": "https://localhost:8080/"
        },
        "id": "MgMQ7KidO67u",
        "outputId": "8ee043a5-2cb1-4611-e991-015d1075d483"
      },
      "outputs": [
        {
          "output_type": "execute_result",
          "data": {
            "text/plain": [
              "2017"
            ]
          },
          "metadata": {},
          "execution_count": 14
        }
      ],
      "source": [
        "review_year(reviews[4])"
      ]
    },
    {
      "cell_type": "code",
      "execution_count": 15,
      "metadata": {
        "colab": {
          "base_uri": "https://localhost:8080/"
        },
        "id": "HvQzlzDYO67u",
        "outputId": "e70327ea-a40e-4ff5-ab79-164cf85592ae"
      },
      "outputs": [
        {
          "output_type": "execute_result",
          "data": {
            "text/plain": [
              "2015"
            ]
          },
          "metadata": {},
          "execution_count": 15
        }
      ],
      "source": [
        "review_year(reviews[47])"
      ]
    },
    {
      "cell_type": "markdown",
      "metadata": {
        "id": "M1hnUE2lO67u"
      },
      "source": [
        "Now, write a function called `get_years` to loop over all of the reviews in the review list and create a list of the years you find. Each year should only appear once, in ascending order. The function should accept one argument (`review_list`) and should return a list of integers representing the years.\n",
        "\n",
        "Hints:\n",
        "\n",
        " - Remember that you can use the `set()` function to keep only the unique elements in a list. Just make sure you use `list()` afterwards to convert it back to a list data type. This is not the only solution, however!\n",
        " - There is a list method named `.sort()` ([look it up in the python list documentation here](https://docs.python.org/3/tutorial/datastructures.html#more-on-lists)) that will automatically order the years; you don't need to write sorting logic \"by hand\""
      ]
    },
    {
      "cell_type": "code",
      "execution_count": 16,
      "metadata": {
        "colab": {
          "base_uri": "https://localhost:8080/"
        },
        "id": "BO3ULPi3O67v",
        "outputId": "2b17594e-b587-44b9-bf7a-c9b527b35777"
      },
      "outputs": [
        {
          "output_type": "stream",
          "name": "stdout",
          "text": [
            "[2007, 2008, 2009, 2011, 2012, 2013, 2014, 2015, 2016, 2017, 2018]\n",
            "<class 'list'>\n",
            "[2007, 2008, 2009, 2011, 2012, 2013, 2014, 2015, 2016, 2017, 2018]\n",
            "<class 'list'>\n"
          ]
        }
      ],
      "source": [
        "\n",
        "def get_years(review_list):\n",
        "    # Option without set()\n",
        "    years = []\n",
        "    for review in review_list:\n",
        "        year = review_year(review)\n",
        "        if year not in years:\n",
        "            years.append(year)\n",
        "    years.sort()\n",
        "    return years\n",
        "\n",
        "print(get_years(reviews))\n",
        "print(type(get_years(reviews)))\n",
        "\n",
        "def get_years(review_list):\n",
        "    # Option with set()\n",
        "    years = []\n",
        "    for review in review_list:\n",
        "        years.append(review_year(review))\n",
        "    years = list(set(years))\n",
        "    years.sort()\n",
        "    return years\n",
        "\n",
        "print(get_years(reviews))\n",
        "print(type(get_years(reviews)))"
      ]
    },
    {
      "cell_type": "markdown",
      "metadata": {
        "id": "ZVHLMADQO67v"
      },
      "source": [
        "Now we know that we have data spanning 2007-2018, with no data from 2010. In some contexts that absence might be worth investigating — is it a random artifact of our sample, or are we missing 2010 data for a reason that matters? For now we'll just keep moving on to the next section, now that we have a clearer sense of the kinds of reviews in our dataset and the years they were written.\n",
        "\n",
        "## Subset Sampling\n",
        "\n",
        "Once you have an overall sense of a dataset, it's a good idea to ask *what are some examples of records in each category?* For example, what are some examples of a negative review?\n",
        "\n",
        "Although 86 records are few enough that you could technically read through all of them and just mentally note what we see, let's use an approach that will scale better to larger datasets with more categories: **filtering** to a subset of records then **sampling** to achieve a digestible amount of information.\n",
        "\n",
        "### Filtering\n",
        "\n",
        "Here we are going to make use of another built-in Python function: `filter()` ([docs here](https://docs.python.org/3/library/functions.html#filter)). To use this function, we first need to write a helper function that returns `True` or `False` based on the value passed in.\n",
        "\n",
        "So, create a function `is_negative` that takes in a review dictionary as an argument and returns `True` if the review is negative, `False` otherwise:"
      ]
    },
    {
      "cell_type": "code",
      "execution_count": 17,
      "metadata": {
        "colab": {
          "base_uri": "https://localhost:8080/"
        },
        "id": "UMfQHSLTO67v",
        "outputId": "e8093a5e-ab3e-46b1-9ac5-59eddd9fb718"
      },
      "outputs": [
        {
          "output_type": "stream",
          "name": "stdout",
          "text": [
            "False\n",
            "True\n",
            "False\n"
          ]
        }
      ],
      "source": [
        "def is_negative(review):\n",
        "    sentiment = review_sentiment(review)\n",
        "    return sentiment == \"negative\"\n",
        "\n",
        "print(is_negative(reviews[2]))  # False (postive review)\n",
        "print(is_negative(reviews[4]))  # True\n",
        "print(is_negative(reviews[47])) # False (neutral review)"
      ]
    },
    {
      "cell_type": "markdown",
      "metadata": {
        "id": "BfmCu99YO67v"
      },
      "source": [
        "Now we can use the `filter()` function to create a list of negative reviews:"
      ]
    },
    {
      "cell_type": "code",
      "execution_count": 18,
      "metadata": {
        "colab": {
          "base_uri": "https://localhost:8080/"
        },
        "id": "fkQ_I_t0O67v",
        "outputId": "cb7b2354-7341-41a5-c513-d9fa5f00006d"
      },
      "outputs": [
        {
          "output_type": "execute_result",
          "data": {
            "text/plain": [
              "[{'rating': 1.0,\n",
              "  'reviewer_name': 'EJ',\n",
              "  'product_id': 'B00004RFRV',\n",
              "  'review_title': 'Rusted spots everywhere fresh out the box...nasty',\n",
              "  'review_time': '06 4, 2017',\n",
              "  'images': ['https://images-na.ssl-images-amazon.com/images/I/71Dbr6X0bYL._SY88.jpg'],\n",
              "  'styles': {'Size:': ' 9-Cup', 'Color:': ' Silver'}},\n",
              " {'rating': 1.0,\n",
              "  'reviewer_name': 'mathman54',\n",
              "  'product_id': 'B00004RFRV',\n",
              "  'review_title': \"The bottom looks like it has rusted and I don't know how to ...\",\n",
              "  'review_time': '02 15, 2016',\n",
              "  'images': ['https://images-na.ssl-images-amazon.com/images/I/71qt4Hnra8L._SY88.jpg',\n",
              "   'https://images-na.ssl-images-amazon.com/images/I/71Wkg8MesdL._SY88.jpg'],\n",
              "  'styles': {'Size:': ' 12-Cup', 'Color:': ' Silver'}},\n",
              " {'rating': 1.0,\n",
              "  'reviewer_name': 'Maria Fernandez',\n",
              "  'product_id': 'B00004RFRV',\n",
              "  'review_title': 'Is it a Bialetti? Came dirty with coffee grounds.',\n",
              "  'review_time': '03 22, 2015',\n",
              "  'images': ['https://images-na.ssl-images-amazon.com/images/I/71aPg3ZuCzL._SY88.jpg',\n",
              "   'https://images-na.ssl-images-amazon.com/images/I/71-2keZacOL._SY88.jpg',\n",
              "   'https://images-na.ssl-images-amazon.com/images/I/71Z4C4G-0dL._SY88.jpg'],\n",
              "  'styles': {'Size:': ' 6-Cup', 'Color:': ' Silver'}},\n",
              " {'rating': 1.0,\n",
              "  'reviewer_name': 'Toni Bautista',\n",
              "  'product_id': 'B00005IBX9',\n",
              "  'review_title': 'Great but NOT PERFECT -missing Side water panel',\n",
              "  'review_time': '02 24, 2017',\n",
              "  'images': ['https://images-na.ssl-images-amazon.com/images/I/71X5NEjZG5L._SY88.jpg'],\n",
              "  'styles': {'Color:': ' Brushed Chrome'}},\n",
              " {'rating': 1.0,\n",
              "  'reviewer_name': 'SAinVA',\n",
              "  'product_id': 'B00005LM0T',\n",
              "  'review_title': 'Too much waste',\n",
              "  'review_time': '09 7, 2017',\n",
              "  'images': ['https://images-na.ssl-images-amazon.com/images/I/71shZggLRHL._SY88.jpg'],\n",
              "  'styles': {'Size:': ' 34 oz.', 'Package Type:': ' Standard Packaging'}},\n",
              " {'rating': 1.0,\n",
              "  'reviewer_name': 'Silicon Valley',\n",
              "  'product_id': 'B00005LM0T',\n",
              "  'review_title': 'FRAME RUSTS WITHIN A FEW WEEKS',\n",
              "  'review_time': '03 10, 2016',\n",
              "  'images': ['https://images-na.ssl-images-amazon.com/images/I/71FREAeBLIL._SY88.jpg',\n",
              "   'https://images-na.ssl-images-amazon.com/images/I/71qkhDjseuL._SY88.jpg',\n",
              "   'https://images-na.ssl-images-amazon.com/images/I/7143mVMMoCL._SY88.jpg'],\n",
              "  'styles': {'Size:': ' 34 oz.', 'Package Type:': ' Standard Packaging'}},\n",
              " {'rating': 1.0,\n",
              "  'reviewer_name': 'Andrew Furlong',\n",
              "  'product_id': 'B00005MF9C',\n",
              "  'review_title': 'but instead ran along the underside of the part of the maker that holds the grounds and finally dropping at an angle at which a',\n",
              "  'review_time': '02 22, 2017',\n",
              "  'images': ['https://images-na.ssl-images-amazon.com/images/I/71kh1XatynL._SY88.jpg'],\n",
              "  'styles': {'Color:': ' Black/Stainless Steel'}},\n",
              " {'rating': 2.0,\n",
              "  'reviewer_name': 'fred o.',\n",
              "  'product_id': 'B00005MF9C',\n",
              "  'review_title': 'Good purchase',\n",
              "  'review_time': '09 4, 2016',\n",
              "  'images': ['https://images-na.ssl-images-amazon.com/images/I/71tRehtvN+L._SY88.jpg',\n",
              "   'https://images-na.ssl-images-amazon.com/images/I/719K20U+MaL._SY88.jpg',\n",
              "   'https://images-na.ssl-images-amazon.com/images/I/71jd6yc1GdL._SY88.jpg'],\n",
              "  'styles': {'Color:': ' Black/White'}},\n",
              " {'rating': 1.0,\n",
              "  'reviewer_name': 'fifrox',\n",
              "  'product_id': 'B00005MF9C',\n",
              "  'review_title': 'Works great for a week then fails!',\n",
              "  'review_time': '03 10, 2016',\n",
              "  'images': ['https://images-na.ssl-images-amazon.com/images/I/81QVkUT4hdL._SY88.jpg'],\n",
              "  'styles': {'Color:': ' Black/Stainless Steel'}},\n",
              " {'rating': 1.0,\n",
              "  'reviewer_name': 'cas',\n",
              "  'product_id': 'B00005NCWQ',\n",
              "  'review_title': 'Garbage!!!',\n",
              "  'review_time': '03 26, 2018',\n",
              "  'images': ['https://images-na.ssl-images-amazon.com/images/I/71Bxydi3DQL._SY88.jpg'],\n",
              "  'styles': {'Size:': ' 8-Cup'}},\n",
              " {'rating': 1.0,\n",
              "  'reviewer_name': 'GoClick',\n",
              "  'product_id': 'B00005OTXM',\n",
              "  'review_title': 'Returned - produced revolting burnt plastic flavored coffee, and seemed flawed.',\n",
              "  'review_time': '04 16, 2015',\n",
              "  'images': ['https://images-na.ssl-images-amazon.com/images/I/71o+7Zru+iL._SY88.jpg',\n",
              "   'https://images-na.ssl-images-amazon.com/images/I/81sbfP4tc8L._SY88.jpg',\n",
              "   'https://images-na.ssl-images-amazon.com/images/I/71vhOebyGaL._SY88.jpg'],\n",
              "  'styles': {'Style Name:': ' COFFEE MAKER ONLY'}},\n",
              " {'rating': 2.0,\n",
              "  'reviewer_name': 'Picks n Pans',\n",
              "  'product_id': 'B00006F2LW',\n",
              "  'review_title': 'Cracked lid out of the box',\n",
              "  'review_time': '02 27, 2008',\n",
              "  'images': ['https://images-na.ssl-images-amazon.com/images/I/317fvUiuNDL._SY88.jpg'],\n",
              "  'styles': {'Color:': ' Black'}},\n",
              " {'rating': 2.0,\n",
              "  'reviewer_name': 'LMM',\n",
              "  'product_id': 'B00008ELEA',\n",
              "  'review_title': 'smelled like the cord was burning',\n",
              "  'review_time': '06 6, 2016',\n",
              "  'images': ['https://images-na.ssl-images-amazon.com/images/I/51xXENQhIGL._SY88.jpg'],\n",
              "  'styles': {'Size:': ' 4-Cup'}},\n",
              " {'rating': 1.0,\n",
              "  'reviewer_name': 'Marcia S.',\n",
              "  'product_id': 'B0000A1ZMS',\n",
              "  'review_title': 'Look what happened to this once great Cuisinart coffeemaker.',\n",
              "  'review_time': '11 12, 2016',\n",
              "  'images': ['https://images-na.ssl-images-amazon.com/images/I/51B8eue4nHL._SY88.jpg',\n",
              "   'https://images-na.ssl-images-amazon.com/images/I/519NziREFIL._SY88.jpg',\n",
              "   'https://images-na.ssl-images-amazon.com/images/I/51v+A1zWqTL._SY88.jpg'],\n",
              "  'styles': {'Color:': ' Black', 'Style Name:': ' Coffeemaker'}},\n",
              " {'rating': 2.0,\n",
              "  'reviewer_name': 'Jimmie',\n",
              "  'product_id': 'B0000A1ZMS',\n",
              "  'review_title': 'Leaks and more',\n",
              "  'review_time': '01 13, 2011',\n",
              "  'images': ['https://images-na.ssl-images-amazon.com/images/I/51U4K+PzETL._SY88.jpg'],\n",
              "  'styles': {'Color:': ' Black', 'Style Name:': ' Coffeemaker'}}]"
            ]
          },
          "metadata": {},
          "execution_count": 18
        }
      ],
      "source": [
        "list(filter(is_negative, reviews))"
      ]
    },
    {
      "cell_type": "markdown",
      "metadata": {
        "id": "DNFFVc-gO67v"
      },
      "source": [
        "Write a function called `get_negative_reviews` that returns a list of these reviews. It should take the list of all reviews as an argument.\n",
        "\n",
        "(This can be a one-line function.)"
      ]
    },
    {
      "cell_type": "code",
      "execution_count": 19,
      "metadata": {
        "colab": {
          "base_uri": "https://localhost:8080/"
        },
        "id": "trAI5c80O67v",
        "outputId": "75595963-0f0b-4cf2-cbde-a6915700fa5e"
      },
      "outputs": [
        {
          "output_type": "execute_result",
          "data": {
            "text/plain": [
              "15"
            ]
          },
          "metadata": {},
          "execution_count": 19
        }
      ],
      "source": [
        "\n",
        "def get_negative_reviews(review_list):\n",
        "    return list(filter(is_negative, review_list))\n",
        "\n",
        "len(get_negative_reviews(reviews)) # 15"
      ]
    },
    {
      "cell_type": "markdown",
      "metadata": {
        "id": "XAKZTYsKO67w"
      },
      "source": [
        "### Sampling\n",
        "\n",
        "Again, since we have a relatively small dataset, we could just look at all 15 reviews. But let's take a more scalable approach instead, and take a random sample of negative reviews.\n",
        "\n",
        "Recall the `random` module, which must be imported:"
      ]
    },
    {
      "cell_type": "code",
      "execution_count": 20,
      "metadata": {
        "id": "WWscD1rEO67w"
      },
      "outputs": [],
      "source": [
        "import random"
      ]
    },
    {
      "cell_type": "markdown",
      "metadata": {
        "id": "Pk2zMXKsO67w"
      },
      "source": [
        "We'll use the `random.sample()` function, which takes in a collection and a number, and returns that number of elements from the collection.\n",
        "\n",
        "So, for example, if we want 3 negative reviews:"
      ]
    },
    {
      "cell_type": "code",
      "execution_count": 21,
      "metadata": {
        "colab": {
          "base_uri": "https://localhost:8080/"
        },
        "id": "nQ8E6AA0O67w",
        "outputId": "f64bbc4b-6710-419d-f9f3-1f4d3e9dd643"
      },
      "outputs": [
        {
          "output_type": "execute_result",
          "data": {
            "text/plain": [
              "[{'rating': 2.0,\n",
              "  'reviewer_name': 'fred o.',\n",
              "  'product_id': 'B00005MF9C',\n",
              "  'review_title': 'Good purchase',\n",
              "  'review_time': '09 4, 2016',\n",
              "  'images': ['https://images-na.ssl-images-amazon.com/images/I/71tRehtvN+L._SY88.jpg',\n",
              "   'https://images-na.ssl-images-amazon.com/images/I/719K20U+MaL._SY88.jpg',\n",
              "   'https://images-na.ssl-images-amazon.com/images/I/71jd6yc1GdL._SY88.jpg'],\n",
              "  'styles': {'Color:': ' Black/White'}},\n",
              " {'rating': 1.0,\n",
              "  'reviewer_name': 'fifrox',\n",
              "  'product_id': 'B00005MF9C',\n",
              "  'review_title': 'Works great for a week then fails!',\n",
              "  'review_time': '03 10, 2016',\n",
              "  'images': ['https://images-na.ssl-images-amazon.com/images/I/81QVkUT4hdL._SY88.jpg'],\n",
              "  'styles': {'Color:': ' Black/Stainless Steel'}},\n",
              " {'rating': 1.0,\n",
              "  'reviewer_name': 'Toni Bautista',\n",
              "  'product_id': 'B00005IBX9',\n",
              "  'review_title': 'Great but NOT PERFECT -missing Side water panel',\n",
              "  'review_time': '02 24, 2017',\n",
              "  'images': ['https://images-na.ssl-images-amazon.com/images/I/71X5NEjZG5L._SY88.jpg'],\n",
              "  'styles': {'Color:': ' Brushed Chrome'}}]"
            ]
          },
          "metadata": {},
          "execution_count": 21
        }
      ],
      "source": [
        "# We did not set a random seed, so your results may differ\n",
        "random.sample(get_negative_reviews(reviews), 3)"
      ]
    },
    {
      "cell_type": "markdown",
      "metadata": {
        "id": "Fpy5N0MlO67w"
      },
      "source": [
        "Now, put that code into a function `get_negative_review_sample`. This function should take a list of reviews and the number of samples to select, and should return a sample of negative reviews.\n",
        "\n",
        "(You can assume that `num_samples` is a valid number. The number of samples must be less than or equal to the number of elements in the collection.)"
      ]
    },
    {
      "cell_type": "code",
      "execution_count": 22,
      "metadata": {
        "colab": {
          "base_uri": "https://localhost:8080/"
        },
        "id": "rSd7Cx5iO67w",
        "outputId": "647befe7-9920-41bf-9c4f-e61ed9c9c619"
      },
      "outputs": [
        {
          "output_type": "execute_result",
          "data": {
            "text/plain": [
              "[{'rating': 1.0,\n",
              "  'reviewer_name': 'GoClick',\n",
              "  'product_id': 'B00005OTXM',\n",
              "  'review_title': 'Returned - produced revolting burnt plastic flavored coffee, and seemed flawed.',\n",
              "  'review_time': '04 16, 2015',\n",
              "  'images': ['https://images-na.ssl-images-amazon.com/images/I/71o+7Zru+iL._SY88.jpg',\n",
              "   'https://images-na.ssl-images-amazon.com/images/I/81sbfP4tc8L._SY88.jpg',\n",
              "   'https://images-na.ssl-images-amazon.com/images/I/71vhOebyGaL._SY88.jpg'],\n",
              "  'styles': {'Style Name:': ' COFFEE MAKER ONLY'}},\n",
              " {'rating': 1.0,\n",
              "  'reviewer_name': 'Marcia S.',\n",
              "  'product_id': 'B0000A1ZMS',\n",
              "  'review_title': 'Look what happened to this once great Cuisinart coffeemaker.',\n",
              "  'review_time': '11 12, 2016',\n",
              "  'images': ['https://images-na.ssl-images-amazon.com/images/I/51B8eue4nHL._SY88.jpg',\n",
              "   'https://images-na.ssl-images-amazon.com/images/I/519NziREFIL._SY88.jpg',\n",
              "   'https://images-na.ssl-images-amazon.com/images/I/51v+A1zWqTL._SY88.jpg'],\n",
              "  'styles': {'Color:': ' Black', 'Style Name:': ' Coffeemaker'}},\n",
              " {'rating': 1.0,\n",
              "  'reviewer_name': 'cas',\n",
              "  'product_id': 'B00005NCWQ',\n",
              "  'review_title': 'Garbage!!!',\n",
              "  'review_time': '03 26, 2018',\n",
              "  'images': ['https://images-na.ssl-images-amazon.com/images/I/71Bxydi3DQL._SY88.jpg'],\n",
              "  'styles': {'Size:': ' 8-Cup'}},\n",
              " {'rating': 1.0,\n",
              "  'reviewer_name': 'Toni Bautista',\n",
              "  'product_id': 'B00005IBX9',\n",
              "  'review_title': 'Great but NOT PERFECT -missing Side water panel',\n",
              "  'review_time': '02 24, 2017',\n",
              "  'images': ['https://images-na.ssl-images-amazon.com/images/I/71X5NEjZG5L._SY88.jpg'],\n",
              "  'styles': {'Color:': ' Brushed Chrome'}}]"
            ]
          },
          "metadata": {},
          "execution_count": 22
        }
      ],
      "source": [
        "def get_negative_review_sample(review_list, num_samples):\n",
        "    return random.sample(get_negative_reviews(review_list), num_samples)\n",
        "\n",
        "get_negative_review_sample(reviews, 4)"
      ]
    },
    {
      "cell_type": "markdown",
      "metadata": {
        "id": "IzdWApqSO67x"
      },
      "source": [
        "Repeat the same process for positive reviews. That means we need:\n",
        "\n",
        "1. A helper function `is_positive` (this can't just be `not is_negative` since neutral reviews are neither)\n",
        "2. A function `get_positive_reviews` which returns a list of all positive reviews\n",
        "3. A function `get_positive_review_sample` which returns a sample of positive reviews with the specified length"
      ]
    },
    {
      "cell_type": "code",
      "execution_count": 23,
      "metadata": {
        "colab": {
          "base_uri": "https://localhost:8080/"
        },
        "id": "UC_33NKhO67x",
        "outputId": "8f4fd6a7-0a1b-42f6-a05a-71e30d33b3fc"
      },
      "outputs": [
        {
          "output_type": "execute_result",
          "data": {
            "text/plain": [
              "[{'rating': 5.0,\n",
              "  'reviewer_name': 'JohnInNC',\n",
              "  'product_id': 'B00004RFRV',\n",
              "  'review_title': 'To Moka, or not to Moka...',\n",
              "  'review_time': '03 24, 2017',\n",
              "  'images': ['https://images-na.ssl-images-amazon.com/images/I/710e2kQhIZL._SY88.jpg'],\n",
              "  'styles': {'Size:': ' 1-Cup', 'Color:': ' Silver'}},\n",
              " {'rating': 5.0,\n",
              "  'reviewer_name': 'Thicket',\n",
              "  'product_id': 'B00009ADDR',\n",
              "  'review_title': 'This press is stout!',\n",
              "  'review_time': '12 4, 2007',\n",
              "  'images': ['https://images-na.ssl-images-amazon.com/images/I/41xt8zREjbL._SY88.jpg'],\n",
              "  'styles': {'Size:': ' 36-Ounce', 'Color:': ' Polished'}},\n",
              " {'rating': 5.0,\n",
              "  'reviewer_name': 'Carly R.',\n",
              "  'product_id': 'B00009V4FI',\n",
              "  'review_title': 'Does the Job',\n",
              "  'review_time': '08 27, 2012',\n",
              "  'images': ['https://images-na.ssl-images-amazon.com/images/I/517Z35F4+lL._SY88.jpg',\n",
              "   'https://images-na.ssl-images-amazon.com/images/I/51kLrPCyqrL._SY88.jpg'],\n",
              "  'styles': {'Size:': ' 32 Ounce', 'Package Quantity:': ' 1'}},\n",
              " {'rating': 5.0,\n",
              "  'reviewer_name': 'Jonathan Sabin',\n",
              "  'product_id': 'B00004RFRV',\n",
              "  'review_title': 'Smooo---ooo----oooo--th!!',\n",
              "  'review_time': '10 2, 2007',\n",
              "  'images': ['https://images-na.ssl-images-amazon.com/images/I/51XtijrZHBL._SY88.jpg'],\n",
              "  'styles': {'Size:': ' 6-Cup', 'Color:': ' Silver'}}]"
            ]
          },
          "metadata": {},
          "execution_count": 23
        }
      ],
      "source": [
        "\n",
        "def is_positive(review):\n",
        "    sentiment = review_sentiment(review)\n",
        "    return sentiment == \"positive\"\n",
        "\n",
        "def get_positive_reviews(review_list):\n",
        "    return list(filter(is_positive, review_list))\n",
        "\n",
        "def get_positive_review_sample(review_list, num_samples):\n",
        "    return random.sample(get_positive_reviews(review_list), num_samples)\n",
        "\n",
        "get_positive_review_sample(reviews, 4)"
      ]
    },
    {
      "cell_type": "markdown",
      "metadata": {
        "id": "b3UssiU0O67x"
      },
      "source": [
        "## Individual Review Summary\n",
        "\n",
        "In addition to summarizing the dataset overall and sampling based on criteria, we want the user to be able to query any given record in order to view a summary. Before, we created a variable called `review_index` that the user could modify. Now, let's write some reusable code that doesn't require the user to write any Python at all!\n",
        "\n",
        "Recall that before, our final code looked something like this:"
      ]
    },
    {
      "cell_type": "code",
      "execution_count": 24,
      "metadata": {
        "colab": {
          "base_uri": "https://localhost:8080/"
        },
        "id": "P1tRNl10O67y",
        "outputId": "0107f464-9f05-4d34-adbe-14929daa080d"
      },
      "outputs": [
        {
          "output_type": "stream",
          "name": "stdout",
          "text": [
            "\"Bialetti is the Best!\": This was a positive review written by Karen in 2017.\n"
          ]
        }
      ],
      "source": [
        "\n",
        "review_index = 2\n",
        "\n",
        "# Extract review from list of reviews\n",
        "selected_review = reviews[review_index]\n",
        "\n",
        "# Extract title\n",
        "selected_review_title = selected_review[\"review_title\"]\n",
        "\n",
        "# Extract rating and format as positive, negative, or neutral\n",
        "selected_rating = selected_review[\"rating\"]\n",
        "if selected_rating >= 4:\n",
        "    selected_sentiment = \"positive\"\n",
        "elif selected_rating <= 2:\n",
        "    selected_sentiment = \"negative\"\n",
        "else:\n",
        "    selected_sentiment = \"neutral\"\n",
        "\n",
        "# Extract author\n",
        "selected_author = selected_review[\"reviewer_name\"]\n",
        "\n",
        "# Extract year (doesn't need to be int for this use case)\n",
        "selected_year = selected_review[\"review_time\"][-4:]\n",
        "\n",
        "print(f'\"{selected_review_title}\": This was a {selected_sentiment} review written by {selected_author} in {selected_year}.')"
      ]
    },
    {
      "cell_type": "markdown",
      "metadata": {
        "id": "JilXGsWXO67y"
      },
      "source": [
        "Rewrite that code as a function called `get_review_summary`, which takes a review dictionary as an argument, and returns a string that resembles the previous summary string, e.g.\n",
        "\n",
        "```\n",
        "\"Bialetti is the Best!\": This was a positive review written by Karen in 2017.\n",
        "```\n",
        "\n",
        "*Hint: look back at the functions you have previously written to see which ones might be useful to call within this function!*"
      ]
    },
    {
      "cell_type": "code",
      "execution_count": 25,
      "metadata": {
        "scrolled": true,
        "colab": {
          "base_uri": "https://localhost:8080/"
        },
        "id": "tMoWiwETO67y",
        "outputId": "c4dcb7b6-37b9-49e1-c7dd-77a3414812ef"
      },
      "outputs": [
        {
          "output_type": "stream",
          "name": "stdout",
          "text": [
            "\"Bialetti is the Best!\": This was a positive review written by Karen in 2017.\n"
          ]
        }
      ],
      "source": [
        "def get_review_summary(review):\n",
        "\n",
        "    title = review[\"review_title\"]\n",
        "    sentiment = review_sentiment(review)\n",
        "    author = review[\"reviewer_name\"]\n",
        "    year = review_year(review)\n",
        "\n",
        "    return f'\"{title}\": This was a {sentiment} review written by {author} in {year}.'\n",
        "\n",
        "print(get_review_summary(reviews[2]))"
      ]
    },
    {
      "cell_type": "markdown",
      "metadata": {
        "id": "0fbK45egO67z"
      },
      "source": [
        "Now, instead of copying and pasting that every time, we can just call it repeatedly!\n",
        "\n",
        "Write a function that prompts the user to enter a review index, then prints the relevant review summary. The function should be called `review_summary_prompt`, it should take a list of reviews as an argument, and should print information but not return anything.\n",
        "\n",
        "Display the message `\"Please enter a review index: \"` when prompting for input. You can assume that the user will enter a valid index between 0 and 85.\n",
        "\n",
        "Hints:\n",
        "\n",
        " - Use the built-in `input()` function ([check the documentation here to see how to use it!](https://docs.python.org/3/library/functions.html#input))\n",
        " - Remember that this function always returns a string, so you will have to convert the user-supplied index into an integer, otherwise you'll get the error `TypeError: list indices must be integers or slices, not str`\n",
        " - If you're wondering about the type of a given variable, you can use the built-in `type()` function"
      ]
    },
    {
      "cell_type": "code",
      "execution_count": 26,
      "metadata": {
        "id": "ADVWHJoKO67z"
      },
      "outputs": [],
      "source": [
        "def review_summary_prompt(list_of_reviews):\n",
        "    user_input = input(\"Please enter a review index: \")\n",
        "    index = int(user_input)\n",
        "    review = list_of_reviews[index]\n",
        "    print(get_review_summary(review))"
      ]
    },
    {
      "cell_type": "markdown",
      "metadata": {
        "id": "4f7jipwXO67z"
      },
      "source": [
        "Run this cell, and try entering 2, 4, 52 (examples of positive, negative, neutral reviews)\n",
        "\n",
        "You can also try any index you want, between 0 and 85!"
      ]
    },
    {
      "cell_type": "code",
      "execution_count": 27,
      "metadata": {
        "colab": {
          "base_uri": "https://localhost:8080/"
        },
        "id": "QgeV6RR_O67z",
        "outputId": "f3da84e9-d4a9-41c4-8d82-f0c520884437"
      },
      "outputs": [
        {
          "output_type": "stream",
          "name": "stdout",
          "text": [
            "Please enter a review index: 2\n",
            "\"Bialetti is the Best!\": This was a positive review written by Karen in 2017.\n"
          ]
        }
      ],
      "source": [
        "review_summary_prompt(reviews) # entered 2"
      ]
    },
    {
      "cell_type": "code",
      "execution_count": 28,
      "metadata": {
        "colab": {
          "base_uri": "https://localhost:8080/"
        },
        "id": "NK1UKUzQO67z",
        "outputId": "7b4ea48f-b50f-430f-9bbd-7b2edf19ea96"
      },
      "outputs": [
        {
          "output_type": "stream",
          "name": "stdout",
          "text": [
            "Please enter a review index: 4\n",
            "\"Rusted spots everywhere fresh out the box...nasty\": This was a negative review written by EJ in 2017.\n"
          ]
        }
      ],
      "source": [
        "review_summary_prompt(reviews) # entered 4"
      ]
    },
    {
      "cell_type": "code",
      "execution_count": 29,
      "metadata": {
        "colab": {
          "base_uri": "https://localhost:8080/"
        },
        "id": "EvdF_VfKO67z",
        "outputId": "90213d95-a2d6-47a9-b641-60241080f81a"
      },
      "outputs": [
        {
          "output_type": "stream",
          "name": "stdout",
          "text": [
            "Please enter a review index: 45\n",
            "\"Best coffee...Love it!\": This was a positive review written by Marilyn in 2015.\n"
          ]
        }
      ],
      "source": [
        "review_summary_prompt(reviews) # entered 45"
      ]
    },
    {
      "cell_type": "markdown",
      "metadata": {
        "id": "NO1m_WECO670"
      },
      "source": [
        "## Putting It All Together\n",
        "\n",
        "In this section, we are just calling several of the previously-created functions to double-check that they are working as expected. You do not need to write any more code, although if you notice something wrong with one of your functions you can go back and fix it!  Just make sure that you re-run the cell declaring the function if you want the behavior of calling the function to change.\n",
        "\n",
        "### Data Summary"
      ]
    },
    {
      "cell_type": "code",
      "execution_count": 30,
      "metadata": {
        "scrolled": true,
        "colab": {
          "base_uri": "https://localhost:8080/"
        },
        "id": "4krBG_myO670",
        "outputId": "1c55666d-1a01-4514-9fd5-8d418a56851a"
      },
      "outputs": [
        {
          "output_type": "stream",
          "name": "stdout",
          "text": [
            "The coffee product review dataset contains 86 reviews\n",
            "\n",
            "Review sentiment:\n",
            "67 positive reviews\n",
            "15 negative reviews\n",
            "4 neutral reviews\n",
            "\n",
            "Review years:\n",
            "[2007, 2008, 2009, 2011, 2012, 2013, 2014, 2015, 2016, 2017, 2018]\n"
          ]
        }
      ],
      "source": [
        "\n",
        "print(f\"The coffee product review dataset contains {len(reviews)} reviews\")\n",
        "print()\n",
        "print(\"Review sentiment:\")\n",
        "for key, value in get_sentiment_counts(reviews).items():\n",
        "    print(f\"{value} {key} reviews\")\n",
        "print()\n",
        "print(\"Review years:\")\n",
        "print(get_years(reviews))"
      ]
    },
    {
      "cell_type": "markdown",
      "metadata": {
        "id": "c6oCEGbyO670"
      },
      "source": [
        "### Subset Samples"
      ]
    },
    {
      "cell_type": "code",
      "execution_count": 31,
      "metadata": {
        "colab": {
          "base_uri": "https://localhost:8080/"
        },
        "id": "z_A4QTEQO670",
        "outputId": "aaf40983-756a-459d-a6d8-6d3ff86f95ae"
      },
      "outputs": [
        {
          "output_type": "stream",
          "name": "stdout",
          "text": [
            "Examples of positive reviews:\n",
            "\"A great way to get rich tasting coffee.\": This was a positive review written by AA in 2015.\n",
            "\"Exactly what I needed\": This was a positive review written by Crystal in 2018.\n",
            "\"Wonderful coffee grinder!\": This was a positive review written by stampmom9 Dawn Gallop in 2016.\n",
            "\"Cute, functional\": This was a positive review written by mamacarla in 2014.\n",
            "\"Blacker than the picture on Amazon looks!\": This was a positive review written by Rob S. in 2017.\n",
            "\n",
            "Examples of negative reviews:\n",
            "\"Is it a Bialetti? Came dirty with coffee grounds.\": This was a negative review written by Maria Fernandez in 2015.\n",
            "\"Cracked lid out of the box\": This was a negative review written by Picks n Pans in 2008.\n",
            "\"Too much waste\": This was a negative review written by SAinVA in 2017.\n",
            "\"Rusted spots everywhere fresh out the box...nasty\": This was a negative review written by EJ in 2017.\n",
            "\"FRAME RUSTS WITHIN A FEW WEEKS\": This was a negative review written by Silicon Valley in 2016.\n"
          ]
        }
      ],
      "source": [
        "\n",
        "print(\"Examples of positive reviews:\")\n",
        "positive_samples = get_positive_review_sample(reviews, 5)\n",
        "for review in positive_samples:\n",
        "    print(get_review_summary(review))\n",
        "print()\n",
        "print(\"Examples of negative reviews:\")\n",
        "negative_samples = get_negative_review_sample(reviews, 5)\n",
        "for review in negative_samples:\n",
        "    print(get_review_summary(review))"
      ]
    },
    {
      "cell_type": "markdown",
      "metadata": {
        "id": "HQ2JW_3pO670"
      },
      "source": [
        "### Summary Prompt"
      ]
    },
    {
      "cell_type": "code",
      "execution_count": 32,
      "metadata": {
        "colab": {
          "base_uri": "https://localhost:8080/"
        },
        "id": "sM9xQ4n0O671",
        "outputId": "5e59c9d8-924c-497b-a2bc-df0b445ab898"
      },
      "outputs": [
        {
          "output_type": "stream",
          "name": "stdout",
          "text": [
            "Please enter a review index: 4\n",
            "\"Rusted spots everywhere fresh out the box...nasty\": This was a negative review written by EJ in 2017.\n"
          ]
        }
      ],
      "source": [
        "review_summary_prompt(reviews)"
      ]
    },
    {
      "cell_type": "markdown",
      "metadata": {
        "id": "VVxxdaGuO671"
      },
      "source": [
        "## Conclusion\n",
        "\n",
        "Congratulations, you made it to the end of another cumulative lab! In this lab you practiced refactoring previously-written code to use functions, and using loops to avoid repetition and perform analyses of the whole dataset as well as certain subsets."
      ]
    }
  ],
  "metadata": {
    "kernelspec": {
      "display_name": "Python (learn-env)",
      "language": "python",
      "name": "learn-env"
    },
    "language_info": {
      "codemirror_mode": {
        "name": "ipython",
        "version": 3
      },
      "file_extension": ".py",
      "mimetype": "text/x-python",
      "name": "python",
      "nbconvert_exporter": "python",
      "pygments_lexer": "ipython3",
      "version": "3.8.5"
    },
    "colab": {
      "provenance": [],
      "include_colab_link": true
    }
  },
  "nbformat": 4,
  "nbformat_minor": 0
}